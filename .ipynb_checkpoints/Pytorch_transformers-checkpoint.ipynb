{
 "cells": [
  {
   "cell_type": "code",
   "execution_count": 6,
   "id": "978fcaa1-643f-42b7-a63c-0d5ed380de3b",
   "metadata": {},
   "outputs": [],
   "source": [
    "import pandas as pd\n",
    "import numpy as np\n",
    "import torch\n",
    "import torch.nn as nn\n",
    "import matplotlib.pyplot as plt"
   ]
  },
  {
   "cell_type": "code",
   "execution_count": 7,
   "id": "9f1d35bc-9941-44e8-b880-cad253d23ee7",
   "metadata": {},
   "outputs": [],
   "source": [
    "## We first define the Input embeddings as mentioned in the paper\n",
    "class InputEmbeddings(nn.Module):                     \n",
    "    # define the constructor\n",
    "    def __init__(self, d_model : int, vocab_size : int):\n",
    "        super().__init__()\n",
    "        self.d_model = d_model\n",
    "        self.vocab_size = vocab_size\n",
    "        self.embedding = nn.Embedding(vocab_size, d_model)\n",
    "\n",
    "    def forward(self,x):                                       \n",
    "        return self.embedding(x) * math.sqrt(self.d_model)     # In the embedding layers the weights are multiplied by sqrt(d_model)\n",
    "\n",
    "class PositionalEmbeddings(nn.Module):\n",
    "    # define the constructor\n",
    "    def __init__(self, d_model : int, seq_len : int, dropout : float):\n",
    "        super().__init__()\n",
    "        self.d_model = d_model\n",
    "        self.se_len = seq_len\n",
    "        self.dropout = nn.Dropout(dropout)\n",
    "\n",
    "        # Create a mtrix of shape (seq_len, d_model)\n",
    "        pe = torch.zeros(seq_len, d_model)\n",
    "        # create a vector of shape (seq_len)\n",
    "        position = torch.arange (0,seq_len,dtype = torch.float).unsqueeze(1)\n",
    "        div_term = torch.exp(torch.arange(0, d_model,2).float())* (-math.log(10000.0) / d_model))\n",
    "        # apply the sin to even positions \n",
    "        pe[:,0::2] = torch.sin(position * div_term)\n",
    "        pe[:,1::2] = torch.cos(position * div_term)\n",
    "        # We need to add the \" batch dimension \" to these tensors so that we can apply it to the whole sentences.\n",
    "        # there will be bacthes of sentences.\n",
    "\n",
    "        pe =pe.unsqueeze(0)   # it will become a tensor of dimension (1, Seq_Len, d_model)\n",
    "\n",
    "        # we can register this tensor in the buffer of this module\n",
    "        # Buffer of the model : when we want to keep a tensor inside the module \n",
    "        \n",
    "        \n",
    "        \n",
    "        \n",
    "\n",
    "\n",
    "    \n",
    "\n",
    "\n",
    "\n",
    "        "
   ]
  },
  {
   "cell_type": "code",
   "execution_count": null,
   "id": "b3ee3ab3-9f85-4b40-933c-cc17b77e7082",
   "metadata": {},
   "outputs": [],
   "source": []
  },
  {
   "cell_type": "code",
   "execution_count": null,
   "id": "90e9dd6f-24ca-44e9-84a8-53a19bf3a9f4",
   "metadata": {},
   "outputs": [],
   "source": []
  },
  {
   "cell_type": "code",
   "execution_count": null,
   "id": "8ec14522-8bf4-46cd-9a91-e5faf42ccee6",
   "metadata": {},
   "outputs": [],
   "source": []
  },
  {
   "cell_type": "code",
   "execution_count": null,
   "id": "d70dde9e-9173-4972-9d07-97bcc0e4d419",
   "metadata": {},
   "outputs": [],
   "source": []
  }
 ],
 "metadata": {
  "kernelspec": {
   "display_name": "Python 3 (ipykernel)",
   "language": "python",
   "name": "python3"
  },
  "language_info": {
   "codemirror_mode": {
    "name": "ipython",
    "version": 3
   },
   "file_extension": ".py",
   "mimetype": "text/x-python",
   "name": "python",
   "nbconvert_exporter": "python",
   "pygments_lexer": "ipython3",
   "version": "3.10.9"
  }
 },
 "nbformat": 4,
 "nbformat_minor": 5
}
